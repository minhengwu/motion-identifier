{
 "cells": [
  {
   "cell_type": "code",
   "execution_count": 1,
   "metadata": {
    "collapsed": true
   },
   "outputs": [],
   "source": [
    "from PIL import Image\n",
    "import numpy as np\n",
    "import os\n",
    "from sklearn.model_selection import train_test_split\n",
    "from sklearn.neighbors import KNeighborsClassifier"
   ]
  },
  {
   "cell_type": "markdown",
   "metadata": {},
   "source": [
    "# convert image into numpy array"
   ]
  },
  {
   "cell_type": "code",
   "execution_count": 2,
   "metadata": {
    "collapsed": true
   },
   "outputs": [],
   "source": [
    "data = np.empty((22424,480,640,3), dtype = np.uint8 )\n",
    "\n",
    "label = np.empty(22424, dtype = np.uint8)\n",
    "\n",
    "train_path = '/home/minheng/train'\n",
    "test_path = '/home/minheng/test'\n",
    "\n",
    "def load_data(path):\n",
    "    i = 0\n",
    "    for name in os.listdir(path):\n",
    "        rank = int(name[1])\n",
    "        file_path = os.path.join(path,name)\n",
    "        for pic in os.listdir(file_path):\n",
    "            pic_name = os.path.join(file_path, pic)\n",
    "            data[i] = np.array(Image.open(pic_name),dtype = np.uint8)\n",
    "            label[i] = rank\n",
    "            i += 1\n",
    "            \n",
    "load_data(train_path)"
   ]
  },
  {
   "cell_type": "markdown",
   "metadata": {},
   "source": [
    "# use 1000 samples for base case testing"
   ]
  },
  {
   "cell_type": "code",
   "execution_count": 3,
   "metadata": {
    "collapsed": true
   },
   "outputs": [],
   "source": [
    "slicer = np.random.randint(0, high = 22424, size = 1000)\n",
    "\n",
    "x = data[slicer]\n",
    "\n",
    "x = x.reshape(x.shape[0], -1)\n",
    "\n",
    "y = label[slicer]"
   ]
  },
  {
   "cell_type": "markdown",
   "metadata": {},
   "source": [
    "# train_test split"
   ]
  },
  {
   "cell_type": "code",
   "execution_count": 9,
   "metadata": {
    "collapsed": true
   },
   "outputs": [],
   "source": [
    "X_train, X_test, y_train, y_test = train_test_split(x, y, test_size=0.2, random_state=42)"
   ]
  },
  {
   "cell_type": "markdown",
   "metadata": {},
   "source": [
    "# fit model (base model : KNN)"
   ]
  },
  {
   "cell_type": "code",
   "execution_count": 10,
   "metadata": {
    "collapsed": false
   },
   "outputs": [
    {
     "data": {
      "text/plain": [
       "0.65500000000000003"
      ]
     },
     "execution_count": 10,
     "metadata": {},
     "output_type": "execute_result"
    }
   ],
   "source": [
    "neighbor = KNeighborsClassifier(n_neighbors=5)\n",
    "neighbor.fit(X_train, y_train)\n",
    "neighbor.score(X_test,y_test)"
   ]
  }
 ],
 "metadata": {
  "kernelspec": {
   "display_name": "Python 3",
   "language": "python",
   "name": "python3"
  },
  "language_info": {
   "codemirror_mode": {
    "name": "ipython",
    "version": 3
   },
   "file_extension": ".py",
   "mimetype": "text/x-python",
   "name": "python",
   "nbconvert_exporter": "python",
   "pygments_lexer": "ipython3",
   "version": "3.6.0"
  }
 },
 "nbformat": 4,
 "nbformat_minor": 2
}
